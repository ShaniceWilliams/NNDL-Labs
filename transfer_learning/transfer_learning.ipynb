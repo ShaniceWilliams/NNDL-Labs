{
 "cells": [
  {
   "metadata": {},
   "cell_type": "markdown",
   "source": "## Installation and checking use of GPU",
   "id": "fc7b4c4b767b9bfd"
  },
  {
   "cell_type": "code",
   "id": "initial_id",
   "metadata": {
    "collapsed": true,
    "ExecuteTime": {
     "end_time": "2024-06-21T07:34:55.089793Z",
     "start_time": "2024-06-21T07:34:53.220098Z"
    }
   },
   "source": [
    "import numpy as np \n",
    "import pandas as pd \n",
    "import random\n",
    "import os \n",
    "import matplotlib.pyplot as plt \n",
    "import matplotlib.image as mpimg \n",
    "import tensorflow as tf"
   ],
   "outputs": [
    {
     "name": "stderr",
     "output_type": "stream",
     "text": [
      "2024-06-21 08:34:53.945209: I tensorflow/core/util/port.cc:113] oneDNN custom operations are on. You may see slightly different numerical results due to floating-point round-off errors from different computation orders. To turn them off, set the environment variable `TF_ENABLE_ONEDNN_OPTS=0`.\n",
      "2024-06-21 08:34:54.115302: I tensorflow/core/platform/cpu_feature_guard.cc:210] This TensorFlow binary is optimized to use available CPU instructions in performance-critical operations.\n",
      "To enable the following instructions: AVX2 AVX_VNNI FMA, in other operations, rebuild TensorFlow with the appropriate compiler flags.\n",
      "2024-06-21 08:34:54.665331: W tensorflow/compiler/tf2tensorrt/utils/py_utils.cc:38] TF-TRT Warning: Could not find TensorRT\n"
     ]
    }
   ],
   "execution_count": 1
  },
  {
   "metadata": {
    "ExecuteTime": {
     "end_time": "2024-06-21T07:34:55.352070Z",
     "start_time": "2024-06-21T07:34:55.090820Z"
    }
   },
   "cell_type": "code",
   "source": [
    "# Avoid OOM errors by setting up GPU Memory Consumption Growth\n",
    "\n",
    "gpus = tf.config.experimental.list_physical_devices('GPU')\n",
    "for gpu in gpus:\n",
    "    tf.config.experimental.set_memory_growth(gpu, True)"
   ],
   "id": "a3023995cc055b08",
   "outputs": [
    {
     "name": "stderr",
     "output_type": "stream",
     "text": [
      "2024-06-21 08:34:55.290010: I external/local_xla/xla/stream_executor/cuda/cuda_executor.cc:984] could not open file to read NUMA node: /sys/bus/pci/devices/0000:01:00.0/numa_node\n",
      "Your kernel may have been built without NUMA support.\n",
      "2024-06-21 08:34:55.350255: W tensorflow/core/common_runtime/gpu/gpu_device.cc:2251] Cannot dlopen some GPU libraries. Please make sure the missing libraries mentioned above are installed properly if you would like to use GPU. Follow the guide at https://www.tensorflow.org/install/gpu for how to download and setup the required libraries for your platform.\n",
      "Skipping registering GPU devices...\n"
     ]
    }
   ],
   "execution_count": 2
  },
  {
   "metadata": {
    "ExecuteTime": {
     "end_time": "2024-06-21T07:34:55.360908Z",
     "start_time": "2024-06-21T07:34:55.352933Z"
    }
   },
   "cell_type": "code",
   "source": "tf.config.list_physical_devices('GPU')",
   "id": "28760bdf54c60639",
   "outputs": [
    {
     "data": {
      "text/plain": [
       "[]"
      ]
     },
     "execution_count": 3,
     "metadata": {},
     "output_type": "execute_result"
    }
   ],
   "execution_count": 3
  },
  {
   "metadata": {},
   "cell_type": "markdown",
   "source": "## Import images",
   "id": "85ac64c7027555e4"
  },
  {
   "metadata": {
    "ExecuteTime": {
     "end_time": "2024-06-21T08:27:22.770285Z",
     "start_time": "2024-06-21T08:27:22.767305Z"
    }
   },
   "cell_type": "code",
   "source": [
    "#check current working directory\n",
    "os.getcwd()"
   ],
   "id": "21c654fc1b194105",
   "outputs": [
    {
     "data": {
      "text/plain": [
       "'/home/shanice/projects/bbk/nndl/labs/transfer_learning'"
      ]
     },
     "execution_count": 7,
     "metadata": {},
     "output_type": "execute_result"
    }
   ],
   "execution_count": 7
  },
  {
   "metadata": {
    "ExecuteTime": {
     "end_time": "2024-06-21T08:47:02.160217Z",
     "start_time": "2024-06-21T08:47:02.157895Z"
    }
   },
   "cell_type": "code",
   "source": [
    "# Create directories and create training, validation and test set directories for each class\n",
    "try:\n",
    "    os.mkdir('./data/CatsDogs/trn') \n",
    "    os.mkdir('./data/CatsDogs/trn/dogs') \n",
    "    os.mkdir('./data/CatsDogs/trn/cats') \n",
    "    os.mkdir('./data/CatsDogs/val')\n",
    "    os.mkdir('./data/CatsDogs/val/dogs') \n",
    "    os.mkdir('./data/CatsDogs/val/cats') \n",
    "    os.mkdir('./data/CatsDogs/tst')\n",
    "    os.mkdir('./data/CatsDogs/tst/dogs') \n",
    "    os.mkdir('./data/CatsDogs/tst/cats')\n",
    "except OSError:\n",
    "    pass\n",
    "\n",
    "train_dir = './data/CatsDogs/trn' \n",
    "val_dir = './data/CatsDogs/val' \n",
    "test_dir = './data/CatsDogs/tst'\n"
   ],
   "id": "600c4d1f623de631",
   "outputs": [],
   "execution_count": 10
  },
  {
   "metadata": {},
   "cell_type": "code",
   "outputs": [],
   "execution_count": null,
   "source": "",
   "id": "22a53225401075b7"
  }
 ],
 "metadata": {
  "kernelspec": {
   "display_name": "Python 3",
   "language": "python",
   "name": "python3"
  },
  "language_info": {
   "codemirror_mode": {
    "name": "ipython",
    "version": 2
   },
   "file_extension": ".py",
   "mimetype": "text/x-python",
   "name": "python",
   "nbconvert_exporter": "python",
   "pygments_lexer": "ipython2",
   "version": "2.7.6"
  }
 },
 "nbformat": 4,
 "nbformat_minor": 5
}
